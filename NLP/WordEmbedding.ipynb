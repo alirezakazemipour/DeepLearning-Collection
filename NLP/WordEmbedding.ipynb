{
 "cells": [
  {
   "cell_type": "code",
   "execution_count": 0,
   "metadata": {
    "colab": {},
    "colab_type": "code",
    "id": "BxhiSgC5UKKE"
   },
   "outputs": [],
   "source": [
    "#Imports\n",
    "import string\n",
    "import numpy as np\n",
    "from keras.preprocessing.text import Tokenizer\n",
    "from keras.preprocessing.sequence import pad_sequences\n",
    "from keras.utils import to_categorical, plot_model\n",
    "from keras.layers import Dense, LSTM, Input, Embedding\n",
    "from keras.models import Model, load_model, save_model\n",
    "import pickle\n"
   ]
  },
  {
   "cell_type": "code",
   "execution_count": 0,
   "metadata": {
    "colab": {},
    "colab_type": "code",
    "id": "HdxzmqiKt3GM"
   },
   "outputs": [],
   "source": [
    "#Hyper and Dynamic params\n",
    "embedding_dim = 50\n",
    "EPOCHS = 200\n",
    "BS = 4096 * 2"
   ]
  },
  {
   "cell_type": "code",
   "execution_count": 5,
   "metadata": {
    "colab": {
     "base_uri": "https://localhost:8080/",
     "height": 34
    },
    "colab_type": "code",
    "id": "VuYM6tzmU7i3",
    "outputId": "c6f9750e-bcfb-4227-9f17-04b755438374"
   },
   "outputs": [
    {
     "name": "stdout",
     "output_type": "stream",
     "text": [
      "15802\n"
     ]
    }
   ],
   "source": [
    "# Open the database and show the number of lines in it.\n",
    "with open(\"republic.txt\", mode = \"r\") as file:\n",
    "  print(len(file.readlines()))"
   ]
  },
  {
   "cell_type": "markdown",
   "metadata": {
    "colab_type": "text",
    "id": "HEgaYmUGWg76"
   },
   "source": [
    "Data Prepration\n",
    "\n",
    "    Book/Chapter headings (e.g. “BOOK I.”).\n",
    "    British English spelling (e.g. “honoured”)\n",
    "    Lots of punctuation (e.g. “–“, “;–“, “?–“, and more)\n",
    "    Strange names (e.g. “Polemarchus”).\n",
    "    Some long monologues that go on for hundreds of lines.\n",
    "    Some quoted dialog (e.g. ‘…’)\n",
    "\n"
   ]
  },
  {
   "cell_type": "code",
   "execution_count": 6,
   "metadata": {
    "colab": {
     "base_uri": "https://localhost:8080/",
     "height": 104
    },
    "colab_type": "code",
    "id": "Rknx12R-Vfcs",
    "outputId": "0f08daf3-5ef6-4ecc-facb-fd2126c73c23"
   },
   "outputs": [
    {
     "name": "stdout",
     "output_type": "stream",
     "text": [
      "BOOK I.\n",
      "\n",
      "I went down yesterday to the Piraeus with Glaucon the son of Ariston,\n",
      "that I might offer up my prayers to the goddess (Bendis, the Thracian\n",
      "Artemis.); and also because I wanted to see in what\n"
     ]
    }
   ],
   "source": [
    "# Load doc into memory.\n",
    "def load_doc(filename):\n",
    "  with open(filename, mode = \"r\") as file:\n",
    "    text = file.read()\n",
    "  return text\n",
    "\n",
    "file_addr = \"republic.txt\"\n",
    "doc = load_doc(file_addr)\n",
    "print(doc[:200])"
   ]
  },
  {
   "cell_type": "markdown",
   "metadata": {
    "colab_type": "text",
    "id": "9dYcVWxIY2fY"
   },
   "source": [
    "### Clean Text\n",
    "\n",
    "\n",
    "* Replace ‘–‘ with a white space so we can split words better.\n",
    "* Split words based on white space.\n",
    "* Remove all punctuation from words to reduce the vocabulary size (e.g. ‘What?’ becomes ‘What’).\n",
    "* Remove all words that are not alphabetic to remove standalone punctuation tokens.\n",
    "* Normalize all words to lowercase to reduce the vocabulary size.\n"
   ]
  },
  {
   "cell_type": "code",
   "execution_count": 0,
   "metadata": {
    "colab": {},
    "colab_type": "code",
    "id": "9bkCZCtTX9bi"
   },
   "outputs": [],
   "source": [
    "#Turn a doc into clean tokens\n",
    "def clean_doc(doc):\n",
    "      # replace '--' with a space ' '\n",
    "      doc = doc.replace(\"--\", \" \")\n",
    "      # split into tokens by white space\n",
    "      tokens = doc.split()\n",
    "      # remove punctuation from each token\n",
    "      table = str.maketrans(\" \", \" \", string.punctuation)\n",
    "      tokens = [w.translate(table) for w in tokens]\n",
    "      # remove remaining tokens that are not alphabetic\n",
    "      tokens = [word for word in tokens if word.isalpha()]\n",
    "      # make lower case\n",
    "      tokens = [word.lower() for word in tokens]\n",
    "\n",
    "      return tokens"
   ]
  },
  {
   "cell_type": "code",
   "execution_count": 8,
   "metadata": {
    "colab": {
     "base_uri": "https://localhost:8080/",
     "height": 52
    },
    "colab_type": "code",
    "id": "6mYM53IbcovN",
    "outputId": "655bf06e-b53a-4435-b9bb-1d32edb0623e"
   },
   "outputs": [
    {
     "name": "stdout",
     "output_type": "stream",
     "text": [
      "Total tokens:118684\n",
      "Total unique tokens:7409\n"
     ]
    }
   ],
   "source": [
    "#Clean doc\n",
    "tokens = clean_doc(doc)\n",
    "print(f\"Total tokens:{len(tokens)}\")\n",
    "print(f\"Total unique tokens:{len(set(tokens))}\")"
   ]
  },
  {
   "cell_type": "code",
   "execution_count": 9,
   "metadata": {
    "colab": {
     "base_uri": "https://localhost:8080/",
     "height": 34
    },
    "colab_type": "code",
    "id": "8t7K_BoTdPjD",
    "outputId": "0d14951f-da7b-464a-92ad-fa7887648361"
   },
   "outputs": [
    {
     "name": "stdout",
     "output_type": "stream",
     "text": [
      "Total sequences118633\n"
     ]
    }
   ],
   "source": [
    "#Organize into sequences of tokens\n",
    "length = 50 + 1\n",
    "sequences = []\n",
    "for i in range(len(tokens) - length): #Compare the output of loops\n",
    "  seq = tokens[i:i + length]\n",
    "  line = \" \".join(seq)\n",
    "  sequences.append(line)\n",
    "\n",
    "print(f\"Total sequences{len(sequences)}\")"
   ]
  },
  {
   "cell_type": "code",
   "execution_count": 0,
   "metadata": {
    "colab": {},
    "colab_type": "code",
    "id": "KqSjprk7frsk"
   },
   "outputs": [],
   "source": [
    "# save tokens to file, one dialog per line\n",
    "def save_doc(tokens, filename):\n",
    "  with open(filename, mode = \"w\") as file:\n",
    "    tokens = \"\\n\".join(tokens)\n",
    "    file.write(tokens)"
   ]
  },
  {
   "cell_type": "code",
   "execution_count": 0,
   "metadata": {
    "colab": {},
    "colab_type": "code",
    "id": "iPkXI1V6guN-"
   },
   "outputs": [],
   "source": [
    "# save sequences to file\n",
    "pure_tokens_addr = \"republic_tokens.txt\"\n",
    "save_doc(sequences, pure_tokens_addr)"
   ]
  },
  {
   "cell_type": "markdown",
   "metadata": {
    "colab_type": "text",
    "id": "-HsSmn5pkx0A"
   },
   "source": [
    "# Train Language Model\n",
    "\n",
    "* It uses a distributed representation for words so that different words with similar meanings will have a similar representation.\n",
    "* It learns the representation at the same time as learning the model.\n",
    "* It learns to predict the probability for the next word using the context of the last 100 words."
   ]
  },
  {
   "cell_type": "code",
   "execution_count": 0,
   "metadata": {
    "colab": {},
    "colab_type": "code",
    "id": "NufafnlPi9Qi"
   },
   "outputs": [],
   "source": [
    "#Load processed Database and turn it into lines\n",
    "doc = load_doc(pure_tokens_addr)\n",
    "lines = doc.split(\"\\n\")"
   ]
  },
  {
   "cell_type": "markdown",
   "metadata": {
    "colab_type": "text",
    "id": "WlJOhCbPm3p3"
   },
   "source": [
    "###Encode Sequences\n",
    "\n",
    "The word embedding layer expects input sequences to be comprised of integers.\n",
    "\n",
    "We can map each word in our vocabulary to a unique integer and encode our input sequences. Later, when we make predictions, we can convert the prediction to numbers and look up their associated words in the same mapping.\n",
    "\n",
    "To do this encoding, we will use the Tokenizer class in the Keras API.\n",
    "\n",
    "First, the Tokenizer must be trained on the entire training dataset, which means it finds all of the unique words in the data and assigns each a unique integer.\n",
    "\n",
    "We can then use the fit Tokenizer to encode all of the training sequences, converting each sequence from a list of words to a list of integers.\n",
    "\n",
    "We can access the mapping of words to integers as a dictionary attribute called word_index on the Tokenizer object"
   ]
  },
  {
   "cell_type": "code",
   "execution_count": 0,
   "metadata": {
    "colab": {},
    "colab_type": "code",
    "id": "3DIr3dvrkHji"
   },
   "outputs": [],
   "source": [
    "tokenizer = Tokenizer()\n",
    "tokenizer.fit_on_texts(lines)\n",
    "sequences = tokenizer.texts_to_sequences(lines)"
   ]
  },
  {
   "cell_type": "code",
   "execution_count": 14,
   "metadata": {
    "colab": {
     "base_uri": "https://localhost:8080/",
     "height": 34
    },
    "colab_type": "code",
    "id": "GLmZ3pK9ntGS",
    "outputId": "8dae9ac7-e275-4716-8ee6-b0825eb17085"
   },
   "outputs": [
    {
     "name": "stdout",
     "output_type": "stream",
     "text": [
      "Vocab size:7410\n"
     ]
    }
   ],
   "source": [
    "#Vocabulary size\n",
    "vocab_size = len(tokenizer.word_index) + 1 # what is 1 ?\n",
    "print(f\"Vocab size:{vocab_size}\")"
   ]
  },
  {
   "cell_type": "code",
   "execution_count": 15,
   "metadata": {
    "colab": {
     "base_uri": "https://localhost:8080/",
     "height": 69
    },
    "colab_type": "code",
    "id": "d5pjFjf8o4AK",
    "outputId": "286f3b84-5d24-4fb4-d56a-f6dd2d8ca16c"
   },
   "outputs": [
    {
     "name": "stdout",
     "output_type": "stream",
     "text": [
      "Seq length:50\n",
      "x_train shape:(118633, 50)\n",
      "y_train shape:(118633, 7410)\n"
     ]
    }
   ],
   "source": [
    "#Separate into input and output\n",
    "sequences = np.array(sequences)\n",
    "\n",
    "x_train, y_train = sequences[:, :-1], sequences[:, -1]\n",
    "y_train = to_categorical(y_train, num_classes = vocab_size)\n",
    "seq_length = x_train.shape[1]\n",
    "print(f\"Seq length:{seq_length}\")\n",
    "print(f\"x_train shape:{x_train.shape}\")\n",
    "print(f\"y_train shape:{y_train.shape}\")"
   ]
  },
  {
   "cell_type": "markdown",
   "metadata": {
    "colab_type": "text",
    "id": "lvftKs-tsmd1"
   },
   "source": [
    "There are two primary situations when you can apply the return_sequences to return the full sequence.\n",
    "\n",
    "\n",
    "1.   Stacking RNN, the former RNN layer or layers should set return_sequences to True so that the following RNN layer or layers can have the full sequence as input.\n",
    "\n",
    "2.       We want to generate classification for each time step:\n",
    "\n",
    "\n",
    "  1.           Such as speech recognition or much simpler form - trigger word detection where we generate a value between 0~1 for each timestep representing whether the trigger word is present.\n",
    "  2.   OCR(Optical character recognition) sequence modeling with CTC.\n",
    " "
   ]
  },
  {
   "cell_type": "code",
   "execution_count": 16,
   "metadata": {
    "colab": {
     "base_uri": "https://localhost:8080/",
     "height": 1000
    },
    "colab_type": "code",
    "id": "unJ-qne2qhlF",
    "outputId": "84b2cd03-5209-4fd7-9b19-2dbe6a54a26d"
   },
   "outputs": [
    {
     "name": "stdout",
     "output_type": "stream",
     "text": [
      "WARNING:tensorflow:From /usr/local/lib/python3.6/dist-packages/keras/backend/tensorflow_backend.py:66: The name tf.get_default_graph is deprecated. Please use tf.compat.v1.get_default_graph instead.\n",
      "\n",
      "WARNING:tensorflow:From /usr/local/lib/python3.6/dist-packages/keras/backend/tensorflow_backend.py:541: The name tf.placeholder is deprecated. Please use tf.compat.v1.placeholder instead.\n",
      "\n",
      "WARNING:tensorflow:From /usr/local/lib/python3.6/dist-packages/keras/backend/tensorflow_backend.py:4432: The name tf.random_uniform is deprecated. Please use tf.random.uniform instead.\n",
      "\n",
      "WARNING:tensorflow:From /usr/local/lib/python3.6/dist-packages/keras/backend/tensorflow_backend.py:4479: The name tf.truncated_normal is deprecated. Please use tf.random.truncated_normal instead.\n",
      "\n",
      "WARNING:tensorflow:From /usr/local/lib/python3.6/dist-packages/keras/optimizers.py:793: The name tf.train.Optimizer is deprecated. Please use tf.compat.v1.train.Optimizer instead.\n",
      "\n",
      "WARNING:tensorflow:From /usr/local/lib/python3.6/dist-packages/keras/backend/tensorflow_backend.py:3576: The name tf.log is deprecated. Please use tf.math.log instead.\n",
      "\n",
      "Model: \"model_1\"\n",
      "_________________________________________________________________\n",
      "Layer (type)                 Output Shape              Param #   \n",
      "=================================================================\n",
      "input_1 (InputLayer)         (None, 50)                0         \n",
      "_________________________________________________________________\n",
      "embedding_1 (Embedding)      (None, 50, 50)            370500    \n",
      "_________________________________________________________________\n",
      "lstm_1 (LSTM)                (None, 50, 128)           91648     \n",
      "_________________________________________________________________\n",
      "lstm_2 (LSTM)                (None, 128)               131584    \n",
      "_________________________________________________________________\n",
      "dense_1 (Dense)              (None, 128)               16512     \n",
      "_________________________________________________________________\n",
      "dense_2 (Dense)              (None, 7410)              955890    \n",
      "=================================================================\n",
      "Total params: 1,566,134\n",
      "Trainable params: 1,566,134\n",
      "Non-trainable params: 0\n",
      "_________________________________________________________________\n"
     ]
    },
    {
     "data": {
      "image/png": "[encoded data removed]",
      "text/plain": [
       "<IPython.core.display.Image object>"
      ]
     },
     "execution_count": 16,
     "metadata": {
      "tags": []
     },
     "output_type": "execute_result"
    }
   ],
   "source": [
    "# define model\n",
    "inputs = Input(shape=(seq_length,))\n",
    "\n",
    "x = inputs\n",
    "x = Embedding(input_dim=vocab_size, output_dim = embedding_dim )(x)\n",
    "x = LSTM(128, return_sequences = True)(x)\n",
    "x = LSTM(128)(x)\n",
    "x = Dense(units=128,\n",
    "          kernel_initializer = \"he_normal\",\n",
    "          activation=\"relu\")(x)\n",
    "outputs = Dense(units = vocab_size, activation = \"softmax\")(x)\n",
    "\n",
    "model = Model(inputs, outputs)\n",
    "model.compile(loss = \"categorical_crossentropy\",\n",
    "              optimizer = \"adam\",\n",
    "              metrics = [\"accuracy\"])\n",
    "model.summary()\n",
    "plot_model(model,  to_file=\"model.png\", show_shapes = True)"
   ]
  },
  {
   "cell_type": "code",
   "execution_count": 17,
   "metadata": {
    "colab": {
     "base_uri": "https://localhost:8080/",
     "height": 1000
    },
    "colab_type": "code",
    "id": "U6ClavCqvD6L",
    "outputId": "11b48e63-f54a-4441-ae05-cd8e69efade0"
   },
   "outputs": [
    {
     "name": "stdout",
     "output_type": "stream",
     "text": [
      "WARNING:tensorflow:From /usr/local/lib/python3.6/dist-packages/tensorflow_core/python/ops/math_grad.py:1424: where (from tensorflow.python.ops.array_ops) is deprecated and will be removed in a future version.\n",
      "Instructions for updating:\n",
      "Use tf.where in 2.0, which has the same broadcast rule as np.where\n",
      "WARNING:tensorflow:From /usr/local/lib/python3.6/dist-packages/keras/backend/tensorflow_backend.py:1033: The name tf.assign_add is deprecated. Please use tf.compat.v1.assign_add instead.\n",
      "\n",
      "WARNING:tensorflow:From /usr/local/lib/python3.6/dist-packages/keras/backend/tensorflow_backend.py:1020: The name tf.assign is deprecated. Please use tf.compat.v1.assign instead.\n",
      "\n",
      "WARNING:tensorflow:From /usr/local/lib/python3.6/dist-packages/keras/backend/tensorflow_backend.py:3005: The name tf.Session is deprecated. Please use tf.compat.v1.Session instead.\n",
      "\n",
      "Epoch 1/200\n",
      "WARNING:tensorflow:From /usr/local/lib/python3.6/dist-packages/keras/backend/tensorflow_backend.py:190: The name tf.get_default_session is deprecated. Please use tf.compat.v1.get_default_session instead.\n",
      "\n",
      "WARNING:tensorflow:From /usr/local/lib/python3.6/dist-packages/keras/backend/tensorflow_backend.py:197: The name tf.ConfigProto is deprecated. Please use tf.compat.v1.ConfigProto instead.\n",
      "\n",
      "WARNING:tensorflow:From /usr/local/lib/python3.6/dist-packages/keras/backend/tensorflow_backend.py:207: The name tf.global_variables is deprecated. Please use tf.compat.v1.global_variables instead.\n",
      "\n",
      "WARNING:tensorflow:From /usr/local/lib/python3.6/dist-packages/keras/backend/tensorflow_backend.py:216: The name tf.is_variable_initialized is deprecated. Please use tf.compat.v1.is_variable_initialized instead.\n",
      "\n",
      "WARNING:tensorflow:From /usr/local/lib/python3.6/dist-packages/keras/backend/tensorflow_backend.py:223: The name tf.variables_initializer is deprecated. Please use tf.compat.v1.variables_initializer instead.\n",
      "\n",
      "118633/118633 [==============================] - 12s 105us/step - loss: 8.6678 - acc: 0.0539\n",
      "Epoch 2/200\n",
      "118633/118633 [==============================] - 8s 64us/step - loss: 6.4770 - acc: 0.0597\n",
      "Epoch 3/200\n",
      "118633/118633 [==============================] - 8s 64us/step - loss: 6.1604 - acc: 0.0597\n",
      "Epoch 4/200\n",
      "118633/118633 [==============================] - 8s 64us/step - loss: 6.1231 - acc: 0.0597\n",
      "Epoch 5/200\n",
      "118633/118633 [==============================] - 8s 64us/step - loss: 6.1132 - acc: 0.0597\n",
      "Epoch 6/200\n",
      "118633/118633 [==============================] - 8s 64us/step - loss: 6.1102 - acc: 0.0597\n",
      "Epoch 7/200\n",
      "118633/118633 [==============================] - 8s 64us/step - loss: 6.1092 - acc: 0.0597\n",
      "Epoch 8/200\n",
      "118633/118633 [==============================] - 8s 64us/step - loss: 6.1094 - acc: 0.0597\n",
      "Epoch 9/200\n",
      "118633/118633 [==============================] - 8s 64us/step - loss: 6.1089 - acc: 0.0597\n",
      "Epoch 10/200\n",
      "118633/118633 [==============================] - 8s 64us/step - loss: 6.1083 - acc: 0.0597\n",
      "Epoch 11/200\n",
      "118633/118633 [==============================] - 8s 63us/step - loss: 6.1083 - acc: 0.0597\n",
      "Epoch 12/200\n",
      "118633/118633 [==============================] - 8s 63us/step - loss: 6.1082 - acc: 0.0597\n",
      "Epoch 13/200\n",
      "118633/118633 [==============================] - 8s 64us/step - loss: 6.1075 - acc: 0.0597\n",
      "Epoch 14/200\n",
      "118633/118633 [==============================] - 8s 64us/step - loss: 6.1070 - acc: 0.0597\n",
      "Epoch 15/200\n",
      "118633/118633 [==============================] - 8s 63us/step - loss: 6.1062 - acc: 0.0597\n",
      "Epoch 16/200\n",
      "118633/118633 [==============================] - 8s 64us/step - loss: 6.1047 - acc: 0.0597\n",
      "Epoch 17/200\n",
      "118633/118633 [==============================] - 8s 64us/step - loss: 6.1025 - acc: 0.0597\n",
      "Epoch 18/200\n",
      "118633/118633 [==============================] - 8s 64us/step - loss: 6.0992 - acc: 0.0597\n",
      "Epoch 19/200\n",
      "118633/118633 [==============================] - 8s 63us/step - loss: 6.0924 - acc: 0.0597\n",
      "Epoch 20/200\n",
      "118633/118633 [==============================] - 8s 64us/step - loss: 6.0783 - acc: 0.0597\n",
      "Epoch 21/200\n",
      "118633/118633 [==============================] - 8s 64us/step - loss: 6.0471 - acc: 0.0597\n",
      "Epoch 22/200\n",
      "118633/118633 [==============================] - 8s 64us/step - loss: 5.9830 - acc: 0.0609\n",
      "Epoch 23/200\n",
      "118633/118633 [==============================] - 8s 64us/step - loss: 5.8853 - acc: 0.0749\n",
      "Epoch 24/200\n",
      "118633/118633 [==============================] - 8s 64us/step - loss: 5.8051 - acc: 0.0830\n",
      "Epoch 25/200\n",
      "118633/118633 [==============================] - 8s 64us/step - loss: 5.7543 - acc: 0.0925\n",
      "Epoch 26/200\n",
      "118633/118633 [==============================] - 8s 64us/step - loss: 5.7192 - acc: 0.0992\n",
      "Epoch 27/200\n",
      "118633/118633 [==============================] - 8s 64us/step - loss: 5.6914 - acc: 0.1021\n",
      "Epoch 28/200\n",
      "118633/118633 [==============================] - 8s 64us/step - loss: 5.6676 - acc: 0.1030\n",
      "Epoch 29/200\n",
      "118633/118633 [==============================] - 8s 64us/step - loss: 5.6475 - acc: 0.1034\n",
      "Epoch 30/200\n",
      "118633/118633 [==============================] - 8s 64us/step - loss: 5.6286 - acc: 0.1042\n",
      "Epoch 31/200\n",
      "118633/118633 [==============================] - 8s 64us/step - loss: 5.6108 - acc: 0.1044\n",
      "Epoch 32/200\n",
      "118633/118633 [==============================] - 8s 63us/step - loss: 5.5936 - acc: 0.1041\n",
      "Epoch 33/200\n",
      "118633/118633 [==============================] - 8s 64us/step - loss: 5.5765 - acc: 0.1046\n",
      "Epoch 34/200\n",
      "118633/118633 [==============================] - 8s 64us/step - loss: 5.5605 - acc: 0.1046\n",
      "Epoch 35/200\n",
      "118633/118633 [==============================] - 8s 64us/step - loss: 5.5462 - acc: 0.1043\n",
      "Epoch 36/200\n",
      "118633/118633 [==============================] - 8s 64us/step - loss: 5.5316 - acc: 0.1053\n",
      "Epoch 37/200\n",
      "118633/118633 [==============================] - 8s 64us/step - loss: 5.5168 - acc: 0.1081\n",
      "Epoch 38/200\n",
      "118633/118633 [==============================] - 8s 64us/step - loss: 5.5025 - acc: 0.1105\n",
      "Epoch 39/200\n",
      "118633/118633 [==============================] - 8s 64us/step - loss: 5.4866 - acc: 0.1120\n",
      "Epoch 40/200\n",
      "118633/118633 [==============================] - 8s 64us/step - loss: 5.4688 - acc: 0.1128\n",
      "Epoch 41/200\n",
      "118633/118633 [==============================] - 8s 64us/step - loss: 5.4508 - acc: 0.1146\n",
      "Epoch 42/200\n",
      "118633/118633 [==============================] - 8s 63us/step - loss: 5.4326 - acc: 0.1156\n",
      "Epoch 43/200\n",
      "118633/118633 [==============================] - 8s 64us/step - loss: 5.4143 - acc: 0.1179\n",
      "Epoch 44/200\n",
      "118633/118633 [==============================] - 8s 64us/step - loss: 5.3982 - acc: 0.1178\n",
      "Epoch 45/200\n",
      "118633/118633 [==============================] - 8s 63us/step - loss: 5.3803 - acc: 0.1204\n",
      "Epoch 46/200\n",
      "118633/118633 [==============================] - 8s 63us/step - loss: 5.3642 - acc: 0.1242\n",
      "Epoch 47/200\n",
      "118633/118633 [==============================] - 8s 64us/step - loss: 5.3479 - acc: 0.1274\n",
      "Epoch 48/200\n",
      "118633/118633 [==============================] - 8s 64us/step - loss: 5.3321 - acc: 0.1294\n",
      "Epoch 49/200\n",
      "118633/118633 [==============================] - 8s 63us/step - loss: 5.3165 - acc: 0.1321\n",
      "Epoch 50/200\n",
      "118633/118633 [==============================] - 8s 64us/step - loss: 5.3003 - acc: 0.1340\n",
      "Epoch 51/200\n",
      "118633/118633 [==============================] - 8s 64us/step - loss: 5.2861 - acc: 0.1357\n",
      "Epoch 52/200\n",
      "118633/118633 [==============================] - 8s 64us/step - loss: 5.2704 - acc: 0.1375\n",
      "Epoch 53/200\n",
      "118633/118633 [==============================] - 8s 64us/step - loss: 5.2544 - acc: 0.1398\n",
      "Epoch 54/200\n",
      "118633/118633 [==============================] - 8s 64us/step - loss: 5.2408 - acc: 0.1415\n",
      "Epoch 55/200\n",
      "118633/118633 [==============================] - 8s 64us/step - loss: 5.2264 - acc: 0.1408\n",
      "Epoch 56/200\n",
      "118633/118633 [==============================] - 8s 64us/step - loss: 5.2123 - acc: 0.1433\n",
      "Epoch 57/200\n",
      "118633/118633 [==============================] - 8s 64us/step - loss: 5.1987 - acc: 0.1443\n",
      "Epoch 58/200\n",
      "118633/118633 [==============================] - 8s 64us/step - loss: 5.1855 - acc: 0.1453\n",
      "Epoch 59/200\n",
      "118633/118633 [==============================] - 8s 64us/step - loss: 5.1722 - acc: 0.1453\n",
      "Epoch 60/200\n",
      "118633/118633 [==============================] - 8s 64us/step - loss: 5.1591 - acc: 0.1478\n",
      "Epoch 61/200\n",
      "118633/118633 [==============================] - 8s 64us/step - loss: 5.1467 - acc: 0.1482\n",
      "Epoch 62/200\n",
      "118633/118633 [==============================] - 8s 64us/step - loss: 5.1360 - acc: 0.1496\n",
      "Epoch 63/200\n",
      "118633/118633 [==============================] - 8s 63us/step - loss: 5.1239 - acc: 0.1500\n",
      "Epoch 64/200\n",
      "118633/118633 [==============================] - 8s 64us/step - loss: 5.1122 - acc: 0.1508\n",
      "Epoch 65/200\n",
      "118633/118633 [==============================] - 8s 64us/step - loss: 5.1009 - acc: 0.1514\n",
      "Epoch 66/200\n",
      "118633/118633 [==============================] - 8s 64us/step - loss: 5.0890 - acc: 0.1520\n",
      "Epoch 67/200\n",
      "118633/118633 [==============================] - 8s 64us/step - loss: 5.0784 - acc: 0.1531\n",
      "Epoch 68/200\n",
      "118633/118633 [==============================] - 8s 64us/step - loss: 5.0674 - acc: 0.1532\n",
      "Epoch 69/200\n",
      "118633/118633 [==============================] - 8s 64us/step - loss: 5.0550 - acc: 0.1547\n",
      "Epoch 70/200\n",
      "118633/118633 [==============================] - 8s 64us/step - loss: 5.0430 - acc: 0.1556\n",
      "Epoch 71/200\n",
      "118633/118633 [==============================] - 8s 64us/step - loss: 5.0308 - acc: 0.1546\n",
      "Epoch 72/200\n",
      "118633/118633 [==============================] - 8s 64us/step - loss: 5.0196 - acc: 0.1563\n",
      "Epoch 73/200\n",
      "118633/118633 [==============================] - 8s 64us/step - loss: 5.0051 - acc: 0.1566\n",
      "Epoch 74/200\n",
      "118633/118633 [==============================] - 8s 64us/step - loss: 4.9929 - acc: 0.1575\n",
      "Epoch 75/200\n",
      "118633/118633 [==============================] - 8s 63us/step - loss: 4.9810 - acc: 0.1588\n",
      "Epoch 76/200\n",
      "118633/118633 [==============================] - 8s 64us/step - loss: 4.9685 - acc: 0.1591\n",
      "Epoch 77/200\n",
      "118633/118633 [==============================] - 8s 64us/step - loss: 4.9567 - acc: 0.1604\n",
      "Epoch 78/200\n",
      "118633/118633 [==============================] - 8s 64us/step - loss: 4.9445 - acc: 0.1611\n",
      "Epoch 79/200\n",
      "118633/118633 [==============================] - 8s 64us/step - loss: 4.9327 - acc: 0.1620\n",
      "Epoch 80/200\n",
      "118633/118633 [==============================] - 8s 64us/step - loss: 4.9208 - acc: 0.1634\n",
      "Epoch 81/200\n",
      "118633/118633 [==============================] - 8s 64us/step - loss: 4.9089 - acc: 0.1637\n",
      "Epoch 82/200\n",
      "118633/118633 [==============================] - 8s 64us/step - loss: 4.8986 - acc: 0.1649\n",
      "Epoch 83/200\n",
      "118633/118633 [==============================] - 8s 64us/step - loss: 4.8874 - acc: 0.1650\n",
      "Epoch 84/200\n",
      "118633/118633 [==============================] - 8s 64us/step - loss: 4.8769 - acc: 0.1656\n",
      "Epoch 85/200\n",
      "118633/118633 [==============================] - 8s 64us/step - loss: 4.8663 - acc: 0.1664\n",
      "Epoch 86/200\n",
      "118633/118633 [==============================] - 8s 64us/step - loss: 4.8557 - acc: 0.1671\n",
      "Epoch 87/200\n",
      "118633/118633 [==============================] - 8s 64us/step - loss: 4.8469 - acc: 0.1673\n",
      "Epoch 88/200\n",
      "118633/118633 [==============================] - 8s 63us/step - loss: 4.8349 - acc: 0.1687\n",
      "Epoch 89/200\n",
      "118633/118633 [==============================] - 7s 63us/step - loss: 4.8254 - acc: 0.1694\n",
      "Epoch 90/200\n",
      "118633/118633 [==============================] - 8s 64us/step - loss: 4.8165 - acc: 0.1699\n",
      "Epoch 91/200\n",
      "118633/118633 [==============================] - 8s 64us/step - loss: 4.8057 - acc: 0.1703\n",
      "Epoch 92/200\n",
      "118633/118633 [==============================] - 8s 63us/step - loss: 4.7954 - acc: 0.1721\n",
      "Epoch 93/200\n",
      "118633/118633 [==============================] - 8s 63us/step - loss: 4.7874 - acc: 0.1730\n",
      "Epoch 94/200\n",
      "118633/118633 [==============================] - 8s 64us/step - loss: 4.7767 - acc: 0.1732\n",
      "Epoch 95/200\n",
      "118633/118633 [==============================] - 8s 64us/step - loss: 4.7683 - acc: 0.1743\n",
      "Epoch 96/200\n",
      "118633/118633 [==============================] - 8s 63us/step - loss: 4.7592 - acc: 0.1749\n",
      "Epoch 97/200\n",
      "118633/118633 [==============================] - 8s 63us/step - loss: 4.7487 - acc: 0.1748\n",
      "Epoch 98/200\n",
      "118633/118633 [==============================] - 8s 64us/step - loss: 4.7381 - acc: 0.1763\n",
      "Epoch 99/200\n",
      "118633/118633 [==============================] - 8s 64us/step - loss: 4.7283 - acc: 0.1772\n",
      "Epoch 100/200\n",
      "118633/118633 [==============================] - 8s 64us/step - loss: 4.7189 - acc: 0.1784\n",
      "Epoch 101/200\n",
      "118633/118633 [==============================] - 8s 64us/step - loss: 4.7100 - acc: 0.1786\n",
      "Epoch 102/200\n",
      "118633/118633 [==============================] - 8s 64us/step - loss: 4.6998 - acc: 0.1794\n",
      "Epoch 103/200\n",
      "118633/118633 [==============================] - 8s 64us/step - loss: 4.6910 - acc: 0.1801\n",
      "Epoch 104/200\n",
      "118633/118633 [==============================] - 8s 64us/step - loss: 4.6814 - acc: 0.1806\n",
      "Epoch 105/200\n",
      "118633/118633 [==============================] - 8s 63us/step - loss: 4.6717 - acc: 0.1817\n",
      "Epoch 106/200\n",
      "118633/118633 [==============================] - 8s 64us/step - loss: 4.6617 - acc: 0.1820\n",
      "Epoch 107/200\n",
      "118633/118633 [==============================] - 8s 64us/step - loss: 4.6524 - acc: 0.1823\n",
      "Epoch 108/200\n",
      "118633/118633 [==============================] - 8s 64us/step - loss: 4.6413 - acc: 0.1833\n",
      "Epoch 109/200\n",
      "118633/118633 [==============================] - 8s 64us/step - loss: 4.6311 - acc: 0.1837\n",
      "Epoch 110/200\n",
      "118633/118633 [==============================] - 8s 64us/step - loss: 4.6224 - acc: 0.1842\n",
      "Epoch 111/200\n",
      "118633/118633 [==============================] - 8s 64us/step - loss: 4.6130 - acc: 0.1854\n",
      "Epoch 112/200\n",
      "118633/118633 [==============================] - 8s 64us/step - loss: 4.6015 - acc: 0.1859\n",
      "Epoch 113/200\n",
      "118633/118633 [==============================] - 8s 64us/step - loss: 4.5926 - acc: 0.1864\n",
      "Epoch 114/200\n",
      "118633/118633 [==============================] - 8s 64us/step - loss: 4.5835 - acc: 0.1870\n",
      "Epoch 115/200\n",
      "118633/118633 [==============================] - 8s 64us/step - loss: 4.5734 - acc: 0.1878\n",
      "Epoch 116/200\n",
      "118633/118633 [==============================] - 8s 64us/step - loss: 4.5667 - acc: 0.1883\n",
      "Epoch 117/200\n",
      "118633/118633 [==============================] - 8s 64us/step - loss: 4.5556 - acc: 0.1890\n",
      "Epoch 118/200\n",
      "118633/118633 [==============================] - 8s 64us/step - loss: 4.5450 - acc: 0.1894\n",
      "Epoch 119/200\n",
      "118633/118633 [==============================] - 8s 64us/step - loss: 4.5362 - acc: 0.1901\n",
      "Epoch 120/200\n",
      "118633/118633 [==============================] - 8s 64us/step - loss: 4.5274 - acc: 0.1906\n",
      "Epoch 121/200\n",
      "118633/118633 [==============================] - 8s 64us/step - loss: 4.5164 - acc: 0.1912\n",
      "Epoch 122/200\n",
      "118633/118633 [==============================] - 8s 64us/step - loss: 4.5060 - acc: 0.1923\n",
      "Epoch 123/200\n",
      "118633/118633 [==============================] - 8s 64us/step - loss: 4.4978 - acc: 0.1925\n",
      "Epoch 124/200\n",
      "118633/118633 [==============================] - 8s 64us/step - loss: 4.4885 - acc: 0.1935\n",
      "Epoch 125/200\n",
      "118633/118633 [==============================] - 8s 64us/step - loss: 4.4787 - acc: 0.1936\n",
      "Epoch 126/200\n",
      "118633/118633 [==============================] - 8s 64us/step - loss: 4.4701 - acc: 0.1947\n",
      "Epoch 127/200\n",
      "118633/118633 [==============================] - 8s 64us/step - loss: 4.4614 - acc: 0.1944\n",
      "Epoch 128/200\n",
      "118633/118633 [==============================] - 8s 64us/step - loss: 4.4537 - acc: 0.1955\n",
      "Epoch 129/200\n",
      "118633/118633 [==============================] - 8s 64us/step - loss: 4.4453 - acc: 0.1961\n",
      "Epoch 130/200\n",
      "118633/118633 [==============================] - 8s 64us/step - loss: 4.4366 - acc: 0.1967\n",
      "Epoch 131/200\n",
      "118633/118633 [==============================] - 8s 64us/step - loss: 4.4264 - acc: 0.1973\n",
      "Epoch 132/200\n",
      "118633/118633 [==============================] - 8s 64us/step - loss: 4.4155 - acc: 0.1981\n",
      "Epoch 133/200\n",
      "118633/118633 [==============================] - 8s 64us/step - loss: 4.4074 - acc: 0.1985\n",
      "Epoch 134/200\n",
      "118633/118633 [==============================] - 8s 64us/step - loss: 4.3992 - acc: 0.1989\n",
      "Epoch 135/200\n",
      "118633/118633 [==============================] - 8s 64us/step - loss: 4.3901 - acc: 0.1996\n",
      "Epoch 136/200\n",
      "118633/118633 [==============================] - 8s 64us/step - loss: 4.3819 - acc: 0.2006\n",
      "Epoch 137/200\n",
      "118633/118633 [==============================] - 8s 64us/step - loss: 4.3732 - acc: 0.2009\n",
      "Epoch 138/200\n",
      "118633/118633 [==============================] - 8s 64us/step - loss: 4.3641 - acc: 0.2013\n",
      "Epoch 139/200\n",
      "118633/118633 [==============================] - 8s 64us/step - loss: 4.3565 - acc: 0.2017\n",
      "Epoch 140/200\n",
      "118633/118633 [==============================] - 8s 63us/step - loss: 4.3468 - acc: 0.2029\n",
      "Epoch 141/200\n",
      "118633/118633 [==============================] - 8s 64us/step - loss: 4.3391 - acc: 0.2029\n",
      "Epoch 142/200\n",
      "118633/118633 [==============================] - 8s 64us/step - loss: 4.3315 - acc: 0.2031\n",
      "Epoch 143/200\n",
      "118633/118633 [==============================] - 8s 64us/step - loss: 4.3202 - acc: 0.2041\n",
      "Epoch 144/200\n",
      "118633/118633 [==============================] - 8s 64us/step - loss: 4.3130 - acc: 0.2051\n",
      "Epoch 145/200\n",
      "118633/118633 [==============================] - 8s 63us/step - loss: 4.3063 - acc: 0.2049\n",
      "Epoch 146/200\n",
      "118633/118633 [==============================] - 8s 64us/step - loss: 4.2969 - acc: 0.2064\n",
      "Epoch 147/200\n",
      "118633/118633 [==============================] - 8s 64us/step - loss: 4.2903 - acc: 0.2065\n",
      "Epoch 148/200\n",
      "118633/118633 [==============================] - 8s 64us/step - loss: 4.2804 - acc: 0.2070\n",
      "Epoch 149/200\n",
      "118633/118633 [==============================] - 8s 64us/step - loss: 4.2747 - acc: 0.2074\n",
      "Epoch 150/200\n",
      "118633/118633 [==============================] - 8s 64us/step - loss: 4.2642 - acc: 0.2076\n",
      "Epoch 151/200\n",
      "118633/118633 [==============================] - 8s 64us/step - loss: 4.2581 - acc: 0.2090\n",
      "Epoch 152/200\n",
      "118633/118633 [==============================] - 8s 64us/step - loss: 4.2510 - acc: 0.2089\n",
      "Epoch 153/200\n",
      "118633/118633 [==============================] - 8s 63us/step - loss: 4.2428 - acc: 0.2102\n",
      "Epoch 154/200\n",
      "118633/118633 [==============================] - 8s 64us/step - loss: 4.2363 - acc: 0.2100\n",
      "Epoch 155/200\n",
      "118633/118633 [==============================] - 8s 64us/step - loss: 4.2273 - acc: 0.2104\n",
      "Epoch 156/200\n",
      "118633/118633 [==============================] - 8s 64us/step - loss: 4.2186 - acc: 0.2115\n",
      "Epoch 157/200\n",
      "118633/118633 [==============================] - 8s 64us/step - loss: 4.2087 - acc: 0.2117\n",
      "Epoch 158/200\n",
      "118633/118633 [==============================] - 8s 64us/step - loss: 4.2005 - acc: 0.2132\n",
      "Epoch 159/200\n",
      "118633/118633 [==============================] - 8s 64us/step - loss: 4.1950 - acc: 0.2139\n",
      "Epoch 160/200\n",
      "118633/118633 [==============================] - 8s 64us/step - loss: 4.1861 - acc: 0.2140\n",
      "Epoch 161/200\n",
      "118633/118633 [==============================] - 8s 64us/step - loss: 4.1791 - acc: 0.2152\n",
      "Epoch 162/200\n",
      "118633/118633 [==============================] - 8s 64us/step - loss: 4.1722 - acc: 0.2156\n",
      "Epoch 163/200\n",
      "118633/118633 [==============================] - 8s 64us/step - loss: 4.1651 - acc: 0.2162\n",
      "Epoch 164/200\n",
      "118633/118633 [==============================] - 8s 64us/step - loss: 4.1563 - acc: 0.2170\n",
      "Epoch 165/200\n",
      "118633/118633 [==============================] - 8s 64us/step - loss: 4.1494 - acc: 0.2175\n",
      "Epoch 166/200\n",
      "118633/118633 [==============================] - 8s 64us/step - loss: 4.1416 - acc: 0.2186\n",
      "Epoch 167/200\n",
      "118633/118633 [==============================] - 8s 64us/step - loss: 4.1382 - acc: 0.2183\n",
      "Epoch 168/200\n",
      "118633/118633 [==============================] - 8s 63us/step - loss: 4.1285 - acc: 0.2193\n",
      "Epoch 169/200\n",
      "118633/118633 [==============================] - 8s 64us/step - loss: 4.1207 - acc: 0.2197\n",
      "Epoch 170/200\n",
      "118633/118633 [==============================] - 8s 64us/step - loss: 4.1139 - acc: 0.2215\n",
      "Epoch 171/200\n",
      "118633/118633 [==============================] - 8s 64us/step - loss: 4.1074 - acc: 0.2213\n",
      "Epoch 172/200\n",
      "118633/118633 [==============================] - 8s 64us/step - loss: 4.1009 - acc: 0.2216\n",
      "Epoch 173/200\n",
      "118633/118633 [==============================] - 8s 64us/step - loss: 4.0957 - acc: 0.2225\n",
      "Epoch 174/200\n",
      "118633/118633 [==============================] - 8s 64us/step - loss: 4.0879 - acc: 0.2223\n",
      "Epoch 175/200\n",
      "118633/118633 [==============================] - 8s 64us/step - loss: 4.0818 - acc: 0.2232\n",
      "Epoch 176/200\n",
      "118633/118633 [==============================] - 8s 63us/step - loss: 4.0751 - acc: 0.2240\n",
      "Epoch 177/200\n",
      "118633/118633 [==============================] - 8s 64us/step - loss: 4.0670 - acc: 0.2252\n",
      "Epoch 178/200\n",
      "118633/118633 [==============================] - 8s 64us/step - loss: 4.0594 - acc: 0.2251\n",
      "Epoch 179/200\n",
      "118633/118633 [==============================] - 8s 64us/step - loss: 4.0507 - acc: 0.2268\n",
      "Epoch 180/200\n",
      "118633/118633 [==============================] - 8s 64us/step - loss: 4.0444 - acc: 0.2261\n",
      "Epoch 181/200\n",
      "118633/118633 [==============================] - 8s 64us/step - loss: 4.0401 - acc: 0.2276\n",
      "Epoch 182/200\n",
      "118633/118633 [==============================] - 8s 64us/step - loss: 4.0303 - acc: 0.2280\n",
      "Epoch 183/200\n",
      "118633/118633 [==============================] - 8s 64us/step - loss: 4.0234 - acc: 0.2291\n",
      "Epoch 184/200\n",
      "118633/118633 [==============================] - 8s 63us/step - loss: 4.0169 - acc: 0.2296\n",
      "Epoch 185/200\n",
      "118633/118633 [==============================] - 8s 64us/step - loss: 4.0128 - acc: 0.2304\n",
      "Epoch 186/200\n",
      "118633/118633 [==============================] - 8s 64us/step - loss: 4.0028 - acc: 0.2304\n",
      "Epoch 187/200\n",
      "118633/118633 [==============================] - 8s 64us/step - loss: 4.0030 - acc: 0.2314\n",
      "Epoch 188/200\n",
      "118633/118633 [==============================] - 8s 64us/step - loss: 3.9915 - acc: 0.2318\n",
      "Epoch 189/200\n",
      "118633/118633 [==============================] - 8s 63us/step - loss: 3.9841 - acc: 0.2322\n",
      "Epoch 190/200\n",
      "118633/118633 [==============================] - 8s 64us/step - loss: 3.9777 - acc: 0.2335\n",
      "Epoch 191/200\n",
      "118633/118633 [==============================] - 8s 64us/step - loss: 3.9770 - acc: 0.2335\n",
      "Epoch 192/200\n",
      "118633/118633 [==============================] - 8s 64us/step - loss: 3.9640 - acc: 0.2353\n",
      "Epoch 193/200\n",
      "118633/118633 [==============================] - 8s 64us/step - loss: 3.9548 - acc: 0.2356\n",
      "Epoch 194/200\n",
      "118633/118633 [==============================] - 8s 64us/step - loss: 3.9464 - acc: 0.2374\n",
      "Epoch 195/200\n",
      "118633/118633 [==============================] - 8s 64us/step - loss: 3.9407 - acc: 0.2372\n",
      "Epoch 196/200\n",
      "118633/118633 [==============================] - 8s 64us/step - loss: 3.9360 - acc: 0.2378\n",
      "Epoch 197/200\n",
      "118633/118633 [==============================] - 8s 64us/step - loss: 3.9311 - acc: 0.2379\n",
      "Epoch 198/200\n",
      "118633/118633 [==============================] - 8s 64us/step - loss: 3.9252 - acc: 0.2389\n",
      "Epoch 199/200\n",
      "118633/118633 [==============================] - 8s 64us/step - loss: 3.9174 - acc: 0.2405\n",
      "Epoch 200/200\n",
      "118633/118633 [==============================] - 8s 64us/step - loss: 3.9097 - acc: 0.2406\n"
     ]
    }
   ],
   "source": [
    "#Fit\n",
    "if os.path.exists(\"model.h5\"):\n",
    "  model = load_model(\"model.h5\")\n",
    "else:\n",
    "  model.fit(x_train,\n",
    "            y_train,\n",
    "            epochs = EPOCHS, \n",
    "            batch_size = BS)\n",
    "save_model(model, \"model.h5\")\n",
    "\n",
    "pickle.dump(tokenizer, open(\"tokenizer.pkl\", mode = \"wb\"))"
   ]
  },
  {
   "cell_type": "code",
   "execution_count": 65,
   "metadata": {
    "colab": {
     "base_uri": "https://localhost:8080/",
     "height": 72
    },
    "colab_type": "code",
    "id": "E2cm0pCv5NkS",
    "outputId": "b1c8e95d-73f5-4a94-8232-e68980ab0d3d"
   },
   "outputs": [
    {
     "name": "stdout",
     "output_type": "stream",
     "text": [
      "indeed few to fight as they are few to rule and at the same time their fondness for money makes them unwilling to pay taxes how discreditable and as we said before under such a constitution the same persons have too many callings they are husbandmen tradesmen warriors all in one\n",
      "\n"
     ]
    }
   ],
   "source": [
    "# Generate test data seed\n",
    "seed_text = lines[np.random.randint(0, len(lines))]\n",
    "print( seed_text + \"\\n\" )"
   ]
  },
  {
   "cell_type": "code",
   "execution_count": 0,
   "metadata": {
    "colab": {},
    "colab_type": "code",
    "id": "EQj9-gKV7iAc"
   },
   "outputs": [],
   "source": [
    "# Predict\n",
    "def generate_seq(model, tokenizer, seed, n_words):\n",
    "\n",
    "  result = []\n",
    "  input_text = seed\n",
    "\n",
    "  for _ in range(n_words):\n",
    "\n",
    "    x_test = np.array(tokenizer.texts_to_sequences([input_text]))\n",
    "    x_test = pad_sequences(x_test, maxlen = seq_length, truncating = \"pre\")\n",
    "    predicted = np.argmax(model.predict(x_test)[0])\n",
    "\n",
    "    outword=\"\"\n",
    "    for word, index in tokenizer.word_index.items():\n",
    "        if index == predicted:\n",
    "          outword = word\n",
    "          break\n",
    "    input_text += \" \" + outword\n",
    "    result.append(outword)\n",
    "  return \" \".join(result)"
   ]
  },
  {
   "cell_type": "code",
   "execution_count": 67,
   "metadata": {
    "colab": {
     "base_uri": "https://localhost:8080/",
     "height": 72
    },
    "colab_type": "code",
    "id": "wZzvDtZG7o5B",
    "outputId": "7ff8a8e9-0d8b-411d-d777-42d8bf2a4431"
   },
   "outputs": [
    {
     "name": "stdout",
     "output_type": "stream",
     "text": [
      "indeed few to fight as they are few to rule and at the same time their fondness for money makes them unwilling to pay taxes how discreditable and as we said before under such a constitution the same persons have too many callings they are husbandmen tradesmen warriors all in one\n",
      "who is caught you not you say that the soul of the state and the same and the just is to be the flatterer of the earth to the same and the other and the other and is the reverse of true and the same and the other and is\n"
     ]
    }
   ],
   "source": [
    "# Show the result\n",
    "result = generate_seq(model, tokenizer, seed_text, 50)\n",
    "print(seed_text)\n",
    "print(result)"
   ]
  },
  {
   "cell_type": "code",
   "execution_count": 0,
   "metadata": {
    "colab": {},
    "colab_type": "code",
    "id": "v4bMe4rG7sUR"
   },
   "outputs": [],
   "source": []
  }
 ],
 "metadata": {
  "accelerator": "GPU",
  "colab": {
   "collapsed_sections": [],
   "name": "Word_Embedding.ipynb",
   "provenance": []
  },
  "kernelspec": {
   "display_name": "Python 3",
   "language": "python",
   "name": "python3"
  },
  "language_info": {
   "codemirror_mode": {
    "name": "ipython",
    "version": 3
   },
   "file_extension": ".py",
   "mimetype": "text/x-python",
   "name": "python",
   "nbconvert_exporter": "python",
   "pygments_lexer": "ipython3",
   "version": "3.6.9"
  }
 },
 "nbformat": 4,
 "nbformat_minor": 1
}
