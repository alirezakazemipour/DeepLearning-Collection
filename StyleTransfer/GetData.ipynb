{
 "cells": [
  {
   "cell_type": "code",
   "execution_count": 3,
   "metadata": {
    "colab": {
     "base_uri": "https://localhost:8080/",
     "height": 208
    },
    "colab_type": "code",
    "executionInfo": {
     "elapsed": 6872,
     "status": "ok",
     "timestamp": 1574964858679,
     "user": {
      "displayName": "email maily",
      "photoUrl": "",
      "userId": "14510324700907687727"
     },
     "user_tz": -210
    },
    "id": "JEMqpC_vgkNj",
    "outputId": "fa42229c-3ad3-41ba-d40a-2eefa7270a74"
   },
   "outputs": [
    {
     "name": "stdout",
     "output_type": "stream",
     "text": [
      "--2019-11-28 18:14:13--  https://images-na.ssl-images-amazon.com/images/I/81L-WvzlFwL._SL1000_.jpg\n",
      "Resolving images-na.ssl-images-amazon.com (images-na.ssl-images-amazon.com)... 13.224.199.33\n",
      "Connecting to images-na.ssl-images-amazon.com (images-na.ssl-images-amazon.com)|13.224.199.33|:443... connected.\n",
      "HTTP request sent, awaiting response... 200 OK\n",
      "Length: 351092 (343K) [image/jpeg]\n",
      "Saving to: ‘81L-WvzlFwL._SL1000_.jpg’\n",
      "\n",
      "\r",
      "81L-WvzlFwL._SL1000   0%[                    ]       0  --.-KB/s               \r",
      "81L-WvzlFwL._SL1000 100%[===================>] 342.86K  --.-KB/s    in 0.02s   \n",
      "\n",
      "2019-11-28 18:14:13 (13.5 MB/s) - ‘81L-WvzlFwL._SL1000_.jpg’ saved [351092/351092]\n",
      "\n"
     ]
    }
   ],
   "source": [
    "!wget https://images-na.ssl-images-amazon.com/images/I/81L-WvzlFwL._SL1000_.jpg"
   ]
  },
  {
   "cell_type": "code",
   "execution_count": 0,
   "metadata": {
    "colab": {
     "base_uri": "https://localhost:8080/",
     "height": 204
    },
    "colab_type": "code",
    "executionInfo": {
     "elapsed": 7326,
     "status": "ok",
     "timestamp": 1572168198609,
     "user": {
      "displayName": "email maily",
      "photoUrl": "",
      "userId": "14510324700907687727"
     },
     "user_tz": -210
    },
    "id": "mgdz4nvthY3w",
    "outputId": "f9897382-384c-4cbd-b574-e53e1b3321bc"
   },
   "outputs": [
    {
     "name": "stdout",
     "output_type": "stream",
     "text": [
      "--2019-10-27 09:23:14--  https://cdn.thecrazytourist.com/wp-content/uploads/2017/08/Fraum%C3%BCnster.jpg\n",
      "Resolving cdn.thecrazytourist.com (cdn.thecrazytourist.com)... 68.70.205.2, 68.70.205.1, 68.70.205.4, ...\n",
      "Connecting to cdn.thecrazytourist.com (cdn.thecrazytourist.com)|68.70.205.2|:443... connected.\n",
      "HTTP request sent, awaiting response... 200 OK\n",
      "Length: 253630 (248K) [image/jpeg]\n",
      "Saving to: ‘Fraumünster.jpg’\n",
      "\n",
      "\r",
      "Fraumünster.jpg       0%[                    ]       0  --.-KB/s               \r",
      "Fraumünster.jpg     100%[===================>] 247.69K  --.-KB/s    in 0.03s   \n",
      "\n",
      "2019-10-27 09:23:15 (8.87 MB/s) - ‘Fraumünster.jpg’ saved [253630/253630]\n",
      "\n"
     ]
    }
   ],
   "source": [
    "!wget https://cdn.thecrazytourist.com/wp-content/uploads/2017/08/Fraumünster.jpg"
   ]
  }
 ],
 "metadata": {
  "colab": {
   "name": "PrepareStuff.ipynb",
   "provenance": []
  },
  "kernelspec": {
   "display_name": "Python 3",
   "language": "python",
   "name": "python3"
  },
  "language_info": {
   "codemirror_mode": {
    "name": "ipython",
    "version": 3
   },
   "file_extension": ".py",
   "mimetype": "text/x-python",
   "name": "python",
   "nbconvert_exporter": "python",
   "pygments_lexer": "ipython3",
   "version": "3.6.9"
  }
 },
 "nbformat": 4,
 "nbformat_minor": 1
}
