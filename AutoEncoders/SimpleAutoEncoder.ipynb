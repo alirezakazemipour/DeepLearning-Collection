{
  "nbformat": 4,
  "nbformat_minor": 0,
  "metadata": {
    "colab": {
      "name": "AE.ipynb",
      "provenance": []
    },
    "kernelspec": {
      "name": "python3",
      "display_name": "Python 3"
    },
    "accelerator": "GPU"
  },
  "cells": [
    {
      "cell_type": "code",
      "metadata": {
        "id": "3LaZmr27KlBe",
        "colab_type": "code",
        "colab": {
          "base_uri": "https://localhost:8080/",
          "height": 34
        },
        "outputId": "ddaaf6cd-63db-4e17-fd27-e20500c208c7"
      },
      "source": [
        "%tensorflow_version 1.x"
      ],
      "execution_count": 1,
      "outputs": [
        {
          "output_type": "stream",
          "text": [
            "TensorFlow 1.x selected.\n"
          ],
          "name": "stdout"
        }
      ]
    },
    {
      "cell_type": "code",
      "metadata": {
        "id": "IUgMFTjyKv1x",
        "colab_type": "code",
        "colab": {}
      },
      "source": [
        "import os\n",
        "os.chdir(\"/content/drive/My Drive/Colab Notebooks/AutoEncoder\")"
      ],
      "execution_count": 3,
      "outputs": []
    },
    {
      "cell_type": "code",
      "metadata": {
        "id": "VEsRTw6aK365",
        "colab_type": "code",
        "colab": {
          "base_uri": "https://localhost:8080/",
          "height": 34
        },
        "outputId": "a90359fd-947a-4c55-af98-90d6866ac84f"
      },
      "source": [
        "# imports\n",
        "from keras.datasets import mnist\n",
        "from keras.layers import Conv2D, Flatten, Dense, Reshape\n",
        "from keras.layers import Conv2DTranspose, Input\n",
        "from keras.models import Model\n",
        "import keras.backend as K\n",
        "import numpy as np\n",
        "from matplotlib import pyplot as plt"
      ],
      "execution_count": 2,
      "outputs": [
        {
          "output_type": "stream",
          "text": [
            "Using TensorFlow backend.\n"
          ],
          "name": "stderr"
        }
      ]
    },
    {
      "cell_type": "code",
      "metadata": {
        "id": "t7CMzQNlK8YR",
        "colab_type": "code",
        "colab": {}
      },
      "source": [
        "\"\"\"Dynamic and Hyper parameters\"\"\"\n",
        "image_shape = (28, 28, 1)\n",
        "latent_dim = 16\n",
        "\n",
        "filters = [32, 64]\n",
        "stride = 2\n",
        "kernel_size = 3\n",
        "padding = \"same\"\n",
        "activation = \"relu\"\n",
        "initializer = \"he_normal\"\n",
        "\n",
        "batch_size = 64\n",
        "epochs = 5"
      ],
      "execution_count": 4,
      "outputs": []
    },
    {
      "cell_type": "code",
      "metadata": {
        "id": "3qVx0q8sK9Xp",
        "colab_type": "code",
        "colab": {
          "base_uri": "https://localhost:8080/",
          "height": 51
        },
        "outputId": "dcf8e251-345d-4d7b-81cf-f6b40346ab78"
      },
      "source": [
        "\"\"\"Load and preprocess dataset\"\"\"\n",
        "(x_train, _), (x_test, _) = mnist.load_data()\n",
        "\n",
        "x_train = x_train.reshape((-1, *image_shape)).astype(\"float32\") / 255\n",
        "x_test = x_test.reshape((-1, *image_shape)).astype(\"float32\") / 255"
      ],
      "execution_count": 5,
      "outputs": [
        {
          "output_type": "stream",
          "text": [
            "Downloading data from https://s3.amazonaws.com/img-datasets/mnist.npz\n",
            "11493376/11490434 [==============================] - 2s 0us/step\n"
          ],
          "name": "stdout"
        }
      ]
    },
    {
      "cell_type": "code",
      "metadata": {
        "id": "ixUkpUYBLAE4",
        "colab_type": "code",
        "colab": {}
      },
      "source": [
        "\"\"\"Encoder configurations\"\"\"\n",
        "def build_encoder(inputs):\n",
        "\n",
        "    x = inputs\n",
        "    for filter in filters:\n",
        "        x = Conv2D(filters=filter,\n",
        "                   kernel_size=kernel_size,\n",
        "                   strides=stride,\n",
        "                   padding=padding,\n",
        "                   activation=activation,\n",
        "                   kernel_initializer=initializer)(x)\n",
        "    conv_shape = K.int_shape(x)\n",
        "    x = Flatten()(x)\n",
        "    outputs = Dense(units = latent_dim)(x)\n",
        "\n",
        "    model = Model(inputs, outputs, name = \"Encoder\")\n",
        "    model.summary()\n",
        "    return model, conv_shape"
      ],
      "execution_count": 6,
      "outputs": []
    },
    {
      "cell_type": "code",
      "metadata": {
        "id": "UVfP9w40LC3R",
        "colab_type": "code",
        "colab": {}
      },
      "source": [
        "\"\"\"Decoder configurations\"\"\"\n",
        "def build_decoder(inputs, denseShape):\n",
        "\n",
        "    x = inputs\n",
        "    x = Dense(denseShape[1] * denseShape[2] * denseShape[3])(x)\n",
        "    x = Reshape(denseShape[1:])(x)\n",
        "    for filter in filters[::-1]:\n",
        "        x = Conv2DTranspose(filters=filter,\n",
        "                   kernel_size=kernel_size,\n",
        "                   strides=stride,\n",
        "                   padding=padding,\n",
        "                   activation=activation,\n",
        "                   kernel_initializer=initializer)(x)\n",
        "    outputs = Conv2DTranspose(filters=1,\n",
        "                        kernel_size=1,\n",
        "                        padding=padding,\n",
        "                        strides=1,\n",
        "                        activation=\"sigmoid\")(x)\n",
        "    model = Model(inputs, outputs, name = \"Decoder\")\n",
        "    model.summary()\n",
        "    return model"
      ],
      "execution_count": 7,
      "outputs": []
    },
    {
      "cell_type": "code",
      "metadata": {
        "id": "leSWAuC2LF7C",
        "colab_type": "code",
        "colab": {}
      },
      "source": [
        "\"\"\"Plot\"\"\"\n",
        "def plot(autoEnc):\n",
        "\n",
        "    decoded_imgs = autoEnc.predict(x_test)\n",
        "    imgs = np.concatenate([x_test[:8], decoded_imgs[:8]])\n",
        "    imgs = imgs.reshape((4, 4, 28, 28))\n",
        "    imgs = np.vstack([np.hstack(img) for img in imgs]) #????\n",
        "    print(imgs.shape)\n",
        "    plt.figure()\n",
        "    plt.title('Input')\n",
        "    plt.axis(\"off\")\n",
        "    plt.imshow(imgs[:56], interpolation = \"None\", cmap = \"gray\")\n",
        "    plt.savefig('input.png')\n",
        "    plt.figure()\n",
        "    plt.title('Decoded')\n",
        "    plt.axis(\"off\")\n",
        "    plt.imshow(imgs[56:], interpolation = \"None\", cmap = \"gray\")\n",
        "    plt.savefig('decoded.png')\n",
        "    plt.show()\n"
      ],
      "execution_count": 15,
      "outputs": []
    },
    {
      "cell_type": "code",
      "metadata": {
        "id": "NY6qLrFpLJM1",
        "colab_type": "code",
        "colab": {
          "base_uri": "https://localhost:8080/",
          "height": 1000
        },
        "outputId": "5bf04ff9-3dba-4e0a-f617-0efab27ddd2b"
      },
      "source": [
        "enc_inputs = Input(shape = image_shape)\n",
        "enc, denseShape = build_encoder(enc_inputs)\n",
        "\n",
        "dec_inputs = Input(shape = (latent_dim,))\n",
        "dec = build_decoder(dec_inputs, denseShape)\n",
        "\n",
        "autoEnc_inputs = enc_inputs\n",
        "autoEnc_outputs = dec(enc(autoEnc_inputs))\n",
        "autoEnc = Model(autoEnc_inputs, autoEnc_outputs, name = \"Auto Encoder\")\n",
        "autoEnc.summary()\n",
        "autoEnc.compile(loss = \"mse\", optimizer = \"adam\")\n",
        "autoEnc.fit(x_train,\n",
        "            x_train,\n",
        "            batch_size = batch_size,\n",
        "            epochs=epochs,\n",
        "            validation_data = [x_test, x_test])\n",
        "plot(autoEnc)"
      ],
      "execution_count": 16,
      "outputs": [
        {
          "output_type": "stream",
          "text": [
            "Model: \"Encoder\"\n",
            "_________________________________________________________________\n",
            "Layer (type)                 Output Shape              Param #   \n",
            "=================================================================\n",
            "input_7 (InputLayer)         (None, 28, 28, 1)         0         \n",
            "_________________________________________________________________\n",
            "conv2d_7 (Conv2D)            (None, 14, 14, 32)        320       \n",
            "_________________________________________________________________\n",
            "conv2d_8 (Conv2D)            (None, 7, 7, 64)          18496     \n",
            "_________________________________________________________________\n",
            "flatten_4 (Flatten)          (None, 3136)              0         \n",
            "_________________________________________________________________\n",
            "dense_7 (Dense)              (None, 16)                50192     \n",
            "=================================================================\n",
            "Total params: 69,008\n",
            "Trainable params: 69,008\n",
            "Non-trainable params: 0\n",
            "_________________________________________________________________\n",
            "Model: \"Decoder\"\n",
            "_________________________________________________________________\n",
            "Layer (type)                 Output Shape              Param #   \n",
            "=================================================================\n",
            "input_8 (InputLayer)         (None, 16)                0         \n",
            "_________________________________________________________________\n",
            "dense_8 (Dense)              (None, 3136)              53312     \n",
            "_________________________________________________________________\n",
            "reshape_4 (Reshape)          (None, 7, 7, 64)          0         \n",
            "_________________________________________________________________\n",
            "conv2d_transpose_10 (Conv2DT (None, 14, 14, 64)        36928     \n",
            "_________________________________________________________________\n",
            "conv2d_transpose_11 (Conv2DT (None, 28, 28, 32)        18464     \n",
            "_________________________________________________________________\n",
            "conv2d_transpose_12 (Conv2DT (None, 28, 28, 1)         33        \n",
            "=================================================================\n",
            "Total params: 108,737\n",
            "Trainable params: 108,737\n",
            "Non-trainable params: 0\n",
            "_________________________________________________________________\n",
            "Model: \"Auto Encoder\"\n",
            "_________________________________________________________________\n",
            "Layer (type)                 Output Shape              Param #   \n",
            "=================================================================\n",
            "input_7 (InputLayer)         (None, 28, 28, 1)         0         \n",
            "_________________________________________________________________\n",
            "Encoder (Model)              (None, 16)                69008     \n",
            "_________________________________________________________________\n",
            "Decoder (Model)              (None, 28, 28, 1)         108737    \n",
            "=================================================================\n",
            "Total params: 177,745\n",
            "Trainable params: 177,745\n",
            "Non-trainable params: 0\n",
            "_________________________________________________________________\n",
            "Train on 60000 samples, validate on 10000 samples\n",
            "Epoch 1/5\n",
            "60000/60000 [==============================] - 13s 218us/step - loss: 0.0244 - val_loss: 0.0119\n",
            "Epoch 2/5\n",
            "60000/60000 [==============================] - 12s 206us/step - loss: 0.0111 - val_loss: 0.0101\n",
            "Epoch 3/5\n",
            "60000/60000 [==============================] - 12s 205us/step - loss: 0.0098 - val_loss: 0.0094\n",
            "Epoch 4/5\n",
            "60000/60000 [==============================] - 12s 205us/step - loss: 0.0092 - val_loss: 0.0090\n",
            "Epoch 5/5\n",
            "60000/60000 [==============================] - 12s 204us/step - loss: 0.0087 - val_loss: 0.0086\n",
            "(112, 112)\n"
          ],
          "name": "stdout"
        },
        {
          "output_type": "display_data",
          "data": {
            "image/png": "[encoded data removed]",
            "text/plain": [
              "<Figure size 432x288 with 1 Axes>"
            ]
          },
          "metadata": {
            "tags": [],
            "needs_background": "light"
          }
        },
        {
          "output_type": "display_data",
          "data": {
            "image/png": "[encoded data removed]",
            "text/plain": [
              "<Figure size 432x288 with 1 Axes>"
            ]
          },
          "metadata": {
            "tags": [],
            "needs_background": "light"
          }
        }
      ]
    },
    {
      "cell_type": "code",
      "metadata": {
        "id": "XWFdBhwoM78R",
        "colab_type": "code",
        "colab": {}
      },
      "source": [
        ""
      ],
      "execution_count": null,
      "outputs": []
    }
  ]
}